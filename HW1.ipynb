{
 "cells": [
  {
   "cell_type": "markdown",
   "id": "079fdaa2-f91a-4d5d-8c2f-c42dd312c0e4",
   "metadata": {},
   "source": [
    "\n",
    "# Homework 1\n",
    "\n",
    "## A brief description of myself\n",
    "\n",
    "My name is Alvar Mikkola and I'm currently studying for a bachelor's degree in mathematics and machine learning. When I'm not studying, I enjoy working out and spending time with family and friends, or hitting the ski slopes.  \n",
    "\n",
    "## Previous Data Science experience \n",
    "During my bachelor's studies, I've built a solid foundation in data science through courses in machine learning, statistics, programming and mathematics. I've gained experience in implementing algorithms like linear regression and decision trees in machine learning. I've also developed the statistical skills needed for data analysis, including testing hypothesis and calculating probabilities. My programming experience is primarily in Python, but I've also gained some experience in R through a course in probability theory.  \n",
    "\n"
   ]
  }
 ],
 "metadata": {
  "kernelspec": {
   "display_name": "Python 3 (ipykernel)",
   "language": "python",
   "name": "python3"
  },
  "language_info": {
   "codemirror_mode": {
    "name": "ipython",
    "version": 3
   },
   "file_extension": ".py",
   "mimetype": "text/x-python",
   "name": "python",
   "nbconvert_exporter": "python",
   "pygments_lexer": "ipython3",
   "version": "3.12.2"
  }
 },
 "nbformat": 4,
 "nbformat_minor": 5
}
